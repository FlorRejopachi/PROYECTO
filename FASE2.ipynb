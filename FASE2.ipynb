{
 "cells": [
  {
   "cell_type": "markdown",
   "id": "9caa2fc5-2f49-415b-ba82-20a399c2238d",
   "metadata": {},
   "source": [
    "# Proyecto - Algoritmos de clasificación"
   ]
  },
  {
   "cell_type": "markdown",
   "id": "5fb916c1-95ac-463f-96f0-23cbc497fc0b",
   "metadata": {
    "tags": []
   },
   "source": [
    "#### Se utilizará un dataset para los algoritmos de clasificación llamado Heart Disease-UCI de Kaggles"
   ]
  },
  {
   "cell_type": "markdown",
   "id": "e0148163-1a59-40d8-abb2-9bc5a3910df3",
   "metadata": {},
   "source": [
    "#### Exploración"
   ]
  },
  {
   "cell_type": "code",
   "execution_count": 9,
   "id": "ed11762d-3d06-4312-8f65-9849f33ac4b2",
   "metadata": {
    "tags": []
   },
   "outputs": [],
   "source": [
    "import pandas as pd\n",
    "import matplotlib.pyplot as plt\n",
    "import seaborn as sns"
   ]
  },
  {
   "cell_type": "code",
   "execution_count": 5,
   "id": "c526759e-3e3b-4781-8108-e53fad2d2ae7",
   "metadata": {
    "tags": []
   },
   "outputs": [
    {
     "data": {
      "text/html": [
       "<div>\n",
       "<style scoped>\n",
       "    .dataframe tbody tr th:only-of-type {\n",
       "        vertical-align: middle;\n",
       "    }\n",
       "\n",
       "    .dataframe tbody tr th {\n",
       "        vertical-align: top;\n",
       "    }\n",
       "\n",
       "    .dataframe thead th {\n",
       "        text-align: right;\n",
       "    }\n",
       "</style>\n",
       "<table border=\"1\" class=\"dataframe\">\n",
       "  <thead>\n",
       "    <tr style=\"text-align: right;\">\n",
       "      <th></th>\n",
       "      <th>age</th>\n",
       "      <th>sex</th>\n",
       "      <th>cp</th>\n",
       "      <th>trestbps</th>\n",
       "      <th>chol</th>\n",
       "      <th>fbs</th>\n",
       "      <th>restecg</th>\n",
       "      <th>thalach</th>\n",
       "      <th>exang</th>\n",
       "      <th>oldpeak</th>\n",
       "      <th>slope</th>\n",
       "      <th>ca</th>\n",
       "      <th>thal</th>\n",
       "      <th>target</th>\n",
       "    </tr>\n",
       "  </thead>\n",
       "  <tbody>\n",
       "    <tr>\n",
       "      <th>0</th>\n",
       "      <td>63</td>\n",
       "      <td>1</td>\n",
       "      <td>3</td>\n",
       "      <td>145</td>\n",
       "      <td>233</td>\n",
       "      <td>1</td>\n",
       "      <td>0</td>\n",
       "      <td>150</td>\n",
       "      <td>0</td>\n",
       "      <td>2.3</td>\n",
       "      <td>0</td>\n",
       "      <td>0</td>\n",
       "      <td>1</td>\n",
       "      <td>1</td>\n",
       "    </tr>\n",
       "    <tr>\n",
       "      <th>1</th>\n",
       "      <td>37</td>\n",
       "      <td>1</td>\n",
       "      <td>2</td>\n",
       "      <td>130</td>\n",
       "      <td>250</td>\n",
       "      <td>0</td>\n",
       "      <td>1</td>\n",
       "      <td>187</td>\n",
       "      <td>0</td>\n",
       "      <td>3.5</td>\n",
       "      <td>0</td>\n",
       "      <td>0</td>\n",
       "      <td>2</td>\n",
       "      <td>1</td>\n",
       "    </tr>\n",
       "    <tr>\n",
       "      <th>2</th>\n",
       "      <td>41</td>\n",
       "      <td>0</td>\n",
       "      <td>1</td>\n",
       "      <td>130</td>\n",
       "      <td>204</td>\n",
       "      <td>0</td>\n",
       "      <td>0</td>\n",
       "      <td>172</td>\n",
       "      <td>0</td>\n",
       "      <td>1.4</td>\n",
       "      <td>2</td>\n",
       "      <td>0</td>\n",
       "      <td>2</td>\n",
       "      <td>1</td>\n",
       "    </tr>\n",
       "    <tr>\n",
       "      <th>3</th>\n",
       "      <td>56</td>\n",
       "      <td>1</td>\n",
       "      <td>1</td>\n",
       "      <td>120</td>\n",
       "      <td>236</td>\n",
       "      <td>0</td>\n",
       "      <td>1</td>\n",
       "      <td>178</td>\n",
       "      <td>0</td>\n",
       "      <td>0.8</td>\n",
       "      <td>2</td>\n",
       "      <td>0</td>\n",
       "      <td>2</td>\n",
       "      <td>1</td>\n",
       "    </tr>\n",
       "    <tr>\n",
       "      <th>4</th>\n",
       "      <td>57</td>\n",
       "      <td>0</td>\n",
       "      <td>0</td>\n",
       "      <td>120</td>\n",
       "      <td>354</td>\n",
       "      <td>0</td>\n",
       "      <td>1</td>\n",
       "      <td>163</td>\n",
       "      <td>1</td>\n",
       "      <td>0.6</td>\n",
       "      <td>2</td>\n",
       "      <td>0</td>\n",
       "      <td>2</td>\n",
       "      <td>1</td>\n",
       "    </tr>\n",
       "  </tbody>\n",
       "</table>\n",
       "</div>"
      ],
      "text/plain": [
       "   age  sex  cp  trestbps  chol  fbs  restecg  thalach  exang  oldpeak  slope  \\\n",
       "0   63    1   3       145   233    1        0      150      0      2.3      0   \n",
       "1   37    1   2       130   250    0        1      187      0      3.5      0   \n",
       "2   41    0   1       130   204    0        0      172      0      1.4      2   \n",
       "3   56    1   1       120   236    0        1      178      0      0.8      2   \n",
       "4   57    0   0       120   354    0        1      163      1      0.6      2   \n",
       "\n",
       "   ca  thal  target  \n",
       "0   0     1       1  \n",
       "1   0     2       1  \n",
       "2   0     2       1  \n",
       "3   0     2       1  \n",
       "4   0     2       1  "
      ]
     },
     "execution_count": 5,
     "metadata": {},
     "output_type": "execute_result"
    }
   ],
   "source": [
    "df = pd.read_csv(\"heart.csv\")\n",
    "df.head()"
   ]
  },
  {
   "cell_type": "code",
   "execution_count": 6,
   "id": "e3241605-cf84-4a75-b1b1-5ac86f43131a",
   "metadata": {
    "tags": []
   },
   "outputs": [
    {
     "data": {
      "text/plain": [
       "age         0\n",
       "sex         0\n",
       "cp          0\n",
       "trestbps    0\n",
       "chol        0\n",
       "fbs         0\n",
       "restecg     0\n",
       "thalach     0\n",
       "exang       0\n",
       "oldpeak     0\n",
       "slope       0\n",
       "ca          0\n",
       "thal        0\n",
       "target      0\n",
       "dtype: int64"
      ]
     },
     "execution_count": 6,
     "metadata": {},
     "output_type": "execute_result"
    }
   ],
   "source": [
    "faltante = df.isnull().sum()\n",
    "faltante"
   ]
  },
  {
   "cell_type": "code",
   "execution_count": 7,
   "id": "adfba6b2-f2f8-48ae-9bbc-24b3e337cdb1",
   "metadata": {
    "tags": []
   },
   "outputs": [
    {
     "name": "stdout",
     "output_type": "stream",
     "text": [
      "<class 'pandas.core.frame.DataFrame'>\n",
      "RangeIndex: 303 entries, 0 to 302\n",
      "Data columns (total 14 columns):\n",
      " #   Column    Non-Null Count  Dtype  \n",
      "---  ------    --------------  -----  \n",
      " 0   age       303 non-null    int64  \n",
      " 1   sex       303 non-null    int64  \n",
      " 2   cp        303 non-null    int64  \n",
      " 3   trestbps  303 non-null    int64  \n",
      " 4   chol      303 non-null    int64  \n",
      " 5   fbs       303 non-null    int64  \n",
      " 6   restecg   303 non-null    int64  \n",
      " 7   thalach   303 non-null    int64  \n",
      " 8   exang     303 non-null    int64  \n",
      " 9   oldpeak   303 non-null    float64\n",
      " 10  slope     303 non-null    int64  \n",
      " 11  ca        303 non-null    int64  \n",
      " 12  thal      303 non-null    int64  \n",
      " 13  target    303 non-null    int64  \n",
      "dtypes: float64(1), int64(13)\n",
      "memory usage: 33.3 KB\n"
     ]
    }
   ],
   "source": [
    "# Estadisticos\n",
    "summary_stats = df.describe()\n",
    "summary_stats\n",
    "\n",
    "info = df.info()\n",
    "info"
   ]
  },
  {
   "cell_type": "code",
   "execution_count": 17,
   "id": "ea8adc35-bf8b-46fc-ac75-b955d80fe7bc",
   "metadata": {
    "tags": []
   },
   "outputs": [
    {
     "data": {
      "image/png": "[encoded data removed]",
      "text/plain": [
       "<Figure size 1500x1500 with 16 Axes>"
      ]
     },
     "metadata": {},
     "output_type": "display_data"
    }
   ],
   "source": [
    "# Distribución\n",
    "df.hist(figsize=(15, 15))\n",
    "plt.show()\n",
    "\n",
    "cat_f = df.select_dtypes(include=['object', 'category']).columns\n",
    "for feature in cat_f:\n",
    "    sns.countplot(y=df[feature])\n",
    "    plt.show()"
   ]
  },
  {
   "cell_type": "markdown",
   "id": "f964e0c3-d3df-47e2-92aa-9efbe5d936b7",
   "metadata": {},
   "source": [
    "#### Codificación"
   ]
  },
  {
   "cell_type": "code",
   "execution_count": 78,
   "id": "f7f932ef-535c-4299-b81c-56ca1afae5fe",
   "metadata": {
    "tags": []
   },
   "outputs": [
    {
     "data": {
      "text/html": [
       "<div>\n",
       "<style scoped>\n",
       "    .dataframe tbody tr th:only-of-type {\n",
       "        vertical-align: middle;\n",
       "    }\n",
       "\n",
       "    .dataframe tbody tr th {\n",
       "        vertical-align: top;\n",
       "    }\n",
       "\n",
       "    .dataframe thead th {\n",
       "        text-align: right;\n",
       "    }\n",
       "</style>\n",
       "<table border=\"1\" class=\"dataframe\">\n",
       "  <thead>\n",
       "    <tr style=\"text-align: right;\">\n",
       "      <th></th>\n",
       "      <th>age</th>\n",
       "      <th>sex</th>\n",
       "      <th>cp</th>\n",
       "      <th>trestbps</th>\n",
       "      <th>chol</th>\n",
       "      <th>fbs</th>\n",
       "      <th>restecg</th>\n",
       "      <th>thalach</th>\n",
       "      <th>exang</th>\n",
       "      <th>oldpeak</th>\n",
       "      <th>slope</th>\n",
       "      <th>ca</th>\n",
       "      <th>thal</th>\n",
       "      <th>target</th>\n",
       "    </tr>\n",
       "  </thead>\n",
       "  <tbody>\n",
       "    <tr>\n",
       "      <th>0</th>\n",
       "      <td>63</td>\n",
       "      <td>1</td>\n",
       "      <td>3</td>\n",
       "      <td>145</td>\n",
       "      <td>233</td>\n",
       "      <td>1</td>\n",
       "      <td>0</td>\n",
       "      <td>150</td>\n",
       "      <td>0</td>\n",
       "      <td>2.3</td>\n",
       "      <td>0</td>\n",
       "      <td>0</td>\n",
       "      <td>1</td>\n",
       "      <td>1</td>\n",
       "    </tr>\n",
       "    <tr>\n",
       "      <th>1</th>\n",
       "      <td>37</td>\n",
       "      <td>1</td>\n",
       "      <td>2</td>\n",
       "      <td>130</td>\n",
       "      <td>250</td>\n",
       "      <td>0</td>\n",
       "      <td>1</td>\n",
       "      <td>187</td>\n",
       "      <td>0</td>\n",
       "      <td>3.5</td>\n",
       "      <td>0</td>\n",
       "      <td>0</td>\n",
       "      <td>2</td>\n",
       "      <td>1</td>\n",
       "    </tr>\n",
       "    <tr>\n",
       "      <th>2</th>\n",
       "      <td>41</td>\n",
       "      <td>0</td>\n",
       "      <td>1</td>\n",
       "      <td>130</td>\n",
       "      <td>204</td>\n",
       "      <td>0</td>\n",
       "      <td>0</td>\n",
       "      <td>172</td>\n",
       "      <td>0</td>\n",
       "      <td>1.4</td>\n",
       "      <td>2</td>\n",
       "      <td>0</td>\n",
       "      <td>2</td>\n",
       "      <td>1</td>\n",
       "    </tr>\n",
       "    <tr>\n",
       "      <th>3</th>\n",
       "      <td>56</td>\n",
       "      <td>1</td>\n",
       "      <td>1</td>\n",
       "      <td>120</td>\n",
       "      <td>236</td>\n",
       "      <td>0</td>\n",
       "      <td>1</td>\n",
       "      <td>178</td>\n",
       "      <td>0</td>\n",
       "      <td>0.8</td>\n",
       "      <td>2</td>\n",
       "      <td>0</td>\n",
       "      <td>2</td>\n",
       "      <td>1</td>\n",
       "    </tr>\n",
       "    <tr>\n",
       "      <th>4</th>\n",
       "      <td>57</td>\n",
       "      <td>0</td>\n",
       "      <td>0</td>\n",
       "      <td>120</td>\n",
       "      <td>354</td>\n",
       "      <td>0</td>\n",
       "      <td>1</td>\n",
       "      <td>163</td>\n",
       "      <td>1</td>\n",
       "      <td>0.6</td>\n",
       "      <td>2</td>\n",
       "      <td>0</td>\n",
       "      <td>2</td>\n",
       "      <td>1</td>\n",
       "    </tr>\n",
       "  </tbody>\n",
       "</table>\n",
       "</div>"
      ],
      "text/plain": [
       "   age  sex  cp  trestbps  chol  fbs  restecg  thalach  exang  oldpeak  slope  \\\n",
       "0   63    1   3       145   233    1        0      150      0      2.3      0   \n",
       "1   37    1   2       130   250    0        1      187      0      3.5      0   \n",
       "2   41    0   1       130   204    0        0      172      0      1.4      2   \n",
       "3   56    1   1       120   236    0        1      178      0      0.8      2   \n",
       "4   57    0   0       120   354    0        1      163      1      0.6      2   \n",
       "\n",
       "   ca  thal  target  \n",
       "0   0     1       1  \n",
       "1   0     2       1  \n",
       "2   0     2       1  \n",
       "3   0     2       1  \n",
       "4   0     2       1  "
      ]
     },
     "execution_count": 78,
     "metadata": {},
     "output_type": "execute_result"
    }
   ],
   "source": [
    "df_codificar = pd.get_dummies(df, drop_first=True)\n",
    "df_codificar.head()"
   ]
  },
  {
   "cell_type": "markdown",
   "id": "32cfc231-6e4a-4e72-bd97-308ae3d9fddc",
   "metadata": {},
   "source": [
    "#### Outliers"
   ]
  },
  {
   "cell_type": "code",
   "execution_count": 75,
   "id": "bddb317e-4f79-4e23-8ba7-42e9a41e0f40",
   "metadata": {
    "tags": []
   },
   "outputs": [
    {
     "data": {
      "image/png": "[encoded data removed]",
      "text/plain": [
       "<Figure size 2000x1500 with 14 Axes>"
      ]
     },
     "metadata": {},
     "output_type": "display_data"
    }
   ],
   "source": [
    "plt.figure(figsize=(20, 15))\n",
    "for i, column in enumerate(df_codificar.columns, 1):\n",
    "    plt.subplot(6, 5, i)\n",
    "    sns.boxplot(df_codificar[column])\n",
    "    plt.title(column)\n",
    "\n",
    "plt.tight_layout()\n",
    "plt.show()"
   ]
  },
  {
   "cell_type": "markdown",
   "id": "30359910-4a13-4e40-bd7f-be0df6d9d365",
   "metadata": {},
   "source": [
    "#### Modelos de clasificación"
   ]
  },
  {
   "cell_type": "code",
   "execution_count": 20,
   "id": "bf6218f7-9d2d-4454-9a78-3005653beedd",
   "metadata": {
    "tags": []
   },
   "outputs": [],
   "source": [
    "from sklearn.model_selection import train_test_split\n",
    "\n",
    "X = df_encoded.drop('target', axis=1)\n",
    "y = df_encoded['target']\n",
    "\n",
    "# Dividir el dataset\n",
    "X_train, X_test, y_train, y_test = train_test_split(X, y, test_size=0.2, random_state=42)"
   ]
  },
  {
   "cell_type": "markdown",
   "id": "4ee12ad8-0340-4136-b83f-77ba7e27a839",
   "metadata": {},
   "source": [
    "#### Modelo Naives"
   ]
  },
  {
   "cell_type": "code",
   "execution_count": 44,
   "id": "9972b65c-763e-425a-b561-4beb0605a6c6",
   "metadata": {
    "tags": []
   },
   "outputs": [
    {
     "name": "stdout",
     "output_type": "stream",
     "text": [
      "Naive Bayes resultado: 0.8688524590163934\n"
     ]
    }
   ],
   "source": [
    "from sklearn.naive_bayes import GaussianNB\n",
    "from sklearn.metrics import accuracy_score\n",
    "\n",
    "# Entrenar\n",
    "model_nb = GaussianNB()\n",
    "model_nb.fit(X_train, y_train)\n",
    "\n",
    "# Predecir\n",
    "y_pred_nb = model_nb.predict(X_test)\n",
    "\n",
    "# Evaluar\n",
    "nb = accuracy_score(y_test, y_pred_nb)\n",
    "print(f\"Naive Bayes resultado: {nb}\")"
   ]
  },
  {
   "cell_type": "markdown",
   "id": "c8f112c5-5369-4254-8587-a04cc281e043",
   "metadata": {},
   "source": [
    "#### LDA"
   ]
  },
  {
   "cell_type": "code",
   "execution_count": 47,
   "id": "55643a8c-bd2e-4983-9d29-5aeff16dd184",
   "metadata": {
    "tags": []
   },
   "outputs": [
    {
     "name": "stdout",
     "output_type": "stream",
     "text": [
      "LDA resultado: 0.8688524590163934\n"
     ]
    }
   ],
   "source": [
    "from sklearn.discriminant_analysis import LinearDiscriminantAnalysis\n",
    "\n",
    "# Entrenar\n",
    "model_lda = LinearDiscriminantAnalysis()\n",
    "model_lda.fit(X_train, y_train)\n",
    "\n",
    "# Predecir\n",
    "y_pred_lda = model_lda.predict(X_test)\n",
    "\n",
    "# Evaluar\n",
    "lda = accuracy_score(y_test, y_pred_lda)\n",
    "print(f\"LDA resultado: {lda}\")"
   ]
  },
  {
   "cell_type": "markdown",
   "id": "b1ec9098-a578-4a5b-8a6b-c36ce200d19d",
   "metadata": {
    "tags": []
   },
   "source": [
    "#### Regresión Lineal"
   ]
  },
  {
   "cell_type": "code",
   "execution_count": 48,
   "id": "28ece1dc-b911-4fd4-bf70-1d94fd22bd62",
   "metadata": {
    "tags": []
   },
   "outputs": [
    {
     "name": "stdout",
     "output_type": "stream",
     "text": [
      "Regresión logistica resultado: 0.8852459016393442\n"
     ]
    }
   ],
   "source": [
    "from sklearn.linear_model import LogisticRegression\n",
    "\n",
    "# Entrenar\n",
    "model_lr = LogisticRegression(max_iter=1000)\n",
    "model_lr.fit(X_train, y_train)\n",
    "\n",
    "# Predecir\n",
    "y_pred_lr = model_lr.predict(X_test)\n",
    "\n",
    "# Evaluar\n",
    "lr = accuracy_score(y_test, y_pred_lr)\n",
    "print(f\"Regresión logistica resultado: {lr}\")"
   ]
  },
  {
   "cell_type": "markdown",
   "id": "05ab28fe-6afd-45a9-a7b0-2e52793ee61f",
   "metadata": {},
   "source": [
    "#### SVM"
   ]
  },
  {
   "cell_type": "code",
   "execution_count": 49,
   "id": "3edcae0a-8010-4207-a6fe-5d80ed16cd2a",
   "metadata": {
    "tags": []
   },
   "outputs": [
    {
     "name": "stdout",
     "output_type": "stream",
     "text": [
      "SVM resultado: 0.8688524590163934\n"
     ]
    }
   ],
   "source": [
    "from sklearn.svm import SVC\n",
    "\n",
    "# Entrenar\n",
    "model_svm = SVC(kernel='linear', C=1)\n",
    "model_svm.fit(X_train, y_train)\n",
    "\n",
    "# Predecir\n",
    "y_pred_svm = model_svm.predict(X_test)\n",
    "\n",
    "# Evaluar\n",
    "svm = accuracy_score(y_test, y_pred_svm)\n",
    "print(f\"SVM resultado: {svm}\")"
   ]
  },
  {
   "cell_type": "markdown",
   "id": "c2a1613c-db12-45de-af60-76232028424e",
   "metadata": {},
   "source": [
    "#### Arbol de decision"
   ]
  },
  {
   "cell_type": "code",
   "execution_count": 50,
   "id": "7c99d33e-139b-44e5-b9b6-99eefbdc3860",
   "metadata": {
    "tags": []
   },
   "outputs": [
    {
     "name": "stdout",
     "output_type": "stream",
     "text": [
      "Arbol de decision resultado: 0.819672131147541\n"
     ]
    }
   ],
   "source": [
    "from sklearn.tree import DecisionTreeClassifier\n",
    "\n",
    "# Entrenar\n",
    "model_dt = DecisionTreeClassifier(max_depth=5)\n",
    "model_dt.fit(X_train, y_train)\n",
    "\n",
    "# Predecir\n",
    "y_pred_dt = model_dt.predict(X_test)\n",
    "\n",
    "# Evaluar\n",
    "dt = accuracy_score(y_test, y_pred_dt)\n",
    "print(f\"Arbol de decision resultado: {dt}\")"
   ]
  },
  {
   "cell_type": "markdown",
   "id": "029f59cf-ac03-4085-9947-76dac7a3ccd9",
   "metadata": {},
   "source": [
    "#### Random forest"
   ]
  },
  {
   "cell_type": "code",
   "execution_count": 76,
   "id": "1eadeb23-13c7-4ba3-80e1-fce8c38c2b70",
   "metadata": {
    "tags": []
   },
   "outputs": [
    {
     "name": "stdout",
     "output_type": "stream",
     "text": [
      "Random Forest resultado: 0.8524590163934426\n"
     ]
    }
   ],
   "source": [
    "from sklearn.ensemble import RandomForestClassifier\n",
    "\n",
    "# Entrenar\n",
    "model_rf = RandomForestClassifier(n_estimators=100, max_depth=7, random_state=42)\n",
    "model_rf.fit(X_train, y_train)\n",
    "\n",
    "# Predecir\n",
    "y_pred_rf = model_rf.predict(X_test)\n",
    "\n",
    "# Evaluar\n",
    "rf = accuracy_score(y_test, y_pred_rf)\n",
    "print(f\"Random Forest resultado: {rf}\")"
   ]
  },
  {
   "cell_type": "markdown",
   "id": "fa17cb20-0042-4f9d-9338-2edd4ff151be",
   "metadata": {},
   "source": [
    "#### QDA"
   ]
  },
  {
   "cell_type": "code",
   "execution_count": 52,
   "id": "ca6b210d-83ff-4a0e-bd64-81487e66a99b",
   "metadata": {
    "tags": []
   },
   "outputs": [
    {
     "name": "stdout",
     "output_type": "stream",
     "text": [
      "QDA resultado: 0.8360655737704918\n"
     ]
    }
   ],
   "source": [
    "from sklearn.discriminant_analysis import QuadraticDiscriminantAnalysis\n",
    "\n",
    "# Entrenar\n",
    "model_qda = QuadraticDiscriminantAnalysis()\n",
    "model_qda.fit(X_train, y_train)\n",
    "\n",
    "# Predecir\n",
    "y_pred_qda = model_qda.predict(X_test)\n",
    "\n",
    "# Evaluar\n",
    "qda = accuracy_score(y_test, y_pred_qda)\n",
    "print(f\"QDA resultado: {qda}\")"
   ]
  },
  {
   "cell_type": "markdown",
   "id": "6ebdeeb3-7a25-49e9-8ca1-06607e23ce0e",
   "metadata": {},
   "source": [
    "#### AdaBoost"
   ]
  },
  {
   "cell_type": "code",
   "execution_count": 53,
   "id": "8772e8d7-1254-4b62-82fb-ffcd7f916752",
   "metadata": {
    "tags": []
   },
   "outputs": [
    {
     "name": "stderr",
     "output_type": "stream",
     "text": [
      "C:\\Users\\flord\\anaconda3\\Lib\\site-packages\\sklearn\\ensemble\\_weight_boosting.py:527: FutureWarning: The SAMME.R algorithm (the default) is deprecated and will be removed in 1.6. Use the SAMME algorithm to circumvent this warning.\n",
      "  warnings.warn(\n"
     ]
    },
    {
     "name": "stdout",
     "output_type": "stream",
     "text": [
      "AdaBoost resultado: 0.7704918032786885\n"
     ]
    }
   ],
   "source": [
    "from sklearn.ensemble import AdaBoostClassifier\n",
    "\n",
    "# Entrenar\n",
    "model_ab = AdaBoostClassifier(n_estimators=100, random_state=42)\n",
    "model_ab.fit(X_train, y_train)\n",
    "\n",
    "# Predecir\n",
    "y_pred_ab = model_ab.predict(X_test)\n",
    "\n",
    "# Evaluar\n",
    "adb = accuracy_score(y_test, y_pred_ab)\n",
    "print(f\"AdaBoost resultado: {adb}\")"
   ]
  },
  {
   "cell_type": "markdown",
   "id": "ddbef744-90ec-454b-8da4-e595e05c50a3",
   "metadata": {},
   "source": [
    "#### Gradient Boosting"
   ]
  },
  {
   "cell_type": "code",
   "execution_count": 77,
   "id": "e25768da-9667-4fab-a4bd-10b6af191a21",
   "metadata": {
    "tags": []
   },
   "outputs": [
    {
     "name": "stdout",
     "output_type": "stream",
     "text": [
      "Gradient Boosting resultado: 0.7704918032786885\n"
     ]
    }
   ],
   "source": [
    "from sklearn.ensemble import GradientBoostingClassifier\n",
    "\n",
    "# Entrenar\n",
    "model_gb = GradientBoostingClassifier(n_estimators=100, learning_rate=0.1, random_state=42)\n",
    "model_gb.fit(X_train, y_train)\n",
    "\n",
    "# Predecir\n",
    "y_pred_gb = model_gb.predict(X_test)\n",
    "\n",
    "# Evaluar\n",
    "gb = accuracy_score(y_test, y_pred_gb)\n",
    "print(f\"Gradient Boosting resultado: {gb}\")"
   ]
  },
  {
   "cell_type": "markdown",
   "id": "85f55520-f757-4238-9895-20d325994388",
   "metadata": {},
   "source": [
    "#### XGBoost"
   ]
  },
  {
   "cell_type": "code",
   "execution_count": 55,
   "id": "6bc8adf0-a497-430c-9832-c1348e2d2ea2",
   "metadata": {
    "tags": []
   },
   "outputs": [
    {
     "ename": "ModuleNotFoundError",
     "evalue": "No module named 'xgboost'",
     "output_type": "error",
     "traceback": [
      "\u001b[1;31m---------------------------------------------------------------------------\u001b[0m",
      "\u001b[1;31mModuleNotFoundError\u001b[0m                       Traceback (most recent call last)",
      "Cell \u001b[1;32mIn[55], line 1\u001b[0m\n\u001b[1;32m----> 1\u001b[0m \u001b[38;5;28;01mfrom\u001b[39;00m \u001b[38;5;21;01mxgboost\u001b[39;00m \u001b[38;5;28;01mimport\u001b[39;00m XGBClassifier\n\u001b[0;32m      3\u001b[0m \u001b[38;5;66;03m# Entrenar\u001b[39;00m\n\u001b[0;32m      4\u001b[0m model_xgb \u001b[38;5;241m=\u001b[39m XGBClassifier(n_estimators\u001b[38;5;241m=\u001b[39m\u001b[38;5;241m100\u001b[39m, learning_rate\u001b[38;5;241m=\u001b[39m\u001b[38;5;241m0.1\u001b[39m, random_state\u001b[38;5;241m=\u001b[39m\u001b[38;5;241m42\u001b[39m)\n",
      "\u001b[1;31mModuleNotFoundError\u001b[0m: No module named 'xgboost'"
     ]
    }
   ],
   "source": [
    "from xgboost import XGBClassifier\n",
    "\n",
    "# Entrenar\n",
    "model_xgb = XGBClassifier(n_estimators=100, learning_rate=0.1, random_state=42)\n",
    "model_xgb.fit(X_train, y_train)\n",
    "\n",
    "# Predecir\n",
    "y_pred_xgb = model_xgb.predict(X_test)\n",
    "\n",
    "# Evaluar\n",
    "xgb = accuracy_score(y_test, y_pred_xgb)\n",
    "print(f\"XGBoost resultado: {xgb}\")"
   ]
  },
  {
   "cell_type": "markdown",
   "id": "326cd648-e8f4-4a95-8d44-000de3d47b14",
   "metadata": {},
   "source": [
    "#### LGBM"
   ]
  },
  {
   "cell_type": "code",
   "execution_count": 65,
   "id": "f3aa26d7-6223-41c6-80a5-19a484462697",
   "metadata": {
    "tags": []
   },
   "outputs": [
    {
     "ename": "ModuleNotFoundError",
     "evalue": "No module named 'lightgbm'",
     "output_type": "error",
     "traceback": [
      "\u001b[1;31m---------------------------------------------------------------------------\u001b[0m",
      "\u001b[1;31mModuleNotFoundError\u001b[0m                       Traceback (most recent call last)",
      "Cell \u001b[1;32mIn[65], line 1\u001b[0m\n\u001b[1;32m----> 1\u001b[0m \u001b[38;5;28;01mfrom\u001b[39;00m \u001b[38;5;21;01mlightgbm\u001b[39;00m \u001b[38;5;28;01mimport\u001b[39;00m LGBMClassifier\n\u001b[0;32m      3\u001b[0m \u001b[38;5;66;03m# Entrenar\u001b[39;00m\n\u001b[0;32m      4\u001b[0m model_lgbm \u001b[38;5;241m=\u001b[39m LGBMClassifier(n_estimators\u001b[38;5;241m=\u001b[39m\u001b[38;5;241m100\u001b[39m, learning_rate\u001b[38;5;241m=\u001b[39m\u001b[38;5;241m0.1\u001b[39m, random_state\u001b[38;5;241m=\u001b[39m\u001b[38;5;241m42\u001b[39m)\n",
      "\u001b[1;31mModuleNotFoundError\u001b[0m: No module named 'lightgbm'"
     ]
    }
   ],
   "source": [
    "from lightgbm import LGBMClassifier\n",
    "\n",
    "# Entrenar\n",
    "model_lgbm = LGBMClassifier(n_estimators=100, learning_rate=0.1, random_state=42)\n",
    "model_lgbm.fit(X_train, y_train)\n",
    "\n",
    "# Predecir\n",
    "y_pred_lgbm = model_lgbm.predict(X_test)\n",
    "\n",
    "# Evaluar\n",
    "lgbm = accuracy_score(y_test, y_pred_lgbm)\n",
    "print(f\"LGBM resultado: {lgbm}\")"
   ]
  },
  {
   "cell_type": "code",
   "execution_count": 70,
   "id": "4b9f60f6-887c-4b04-842f-7c2011799940",
   "metadata": {
    "tags": []
   },
   "outputs": [
    {
     "name": "stdout",
     "output_type": "stream",
     "text": [
      "     Modelos aplicados  Resultados\n",
      "2  Regresión Logística    0.885246\n",
      "0          Naive Bayes    0.868852\n",
      "1                  LDA    0.868852\n",
      "3                  SVM    0.868852\n",
      "5        Random Forest    0.852459\n",
      "6                  QDA    0.836066\n",
      "4    Árbol de Decisión    0.819672\n",
      "7             AdaBoost    0.770492\n",
      "8    Gradient Boosting    0.770492\n"
     ]
    }
   ],
   "source": [
    "resul = {\n",
    "    'Modelos aplicados': ['Naive Bayes', 'LDA', 'Regresión Logística', 'SVM', 'Árbol de Decisión', 'Random Forest', 'QDA', 'AdaBoost', 'Gradient Boosting'],\n",
    "    'Resultados': [nb, lda, lr, svm, dt, rf, qda, adb, gb]\n",
    "}\n",
    "\n",
    "r_df = pd.DataFrame(resul)\n",
    "\n",
    "r_df.sort_values(by='Resultados', ascending=False, inplace=True)\n",
    "print(r_df)\n",
    "\n",
    "#xgb, lgbm, 'XGBoost', 'LGBM'"
   ]
  },
  {
   "cell_type": "code",
   "execution_count": null,
   "id": "6089e787-664e-42d1-bc81-29ecc5a3cc93",
   "metadata": {
    "tags": []
   },
   "outputs": [],
   "source": []
  },
  {
   "cell_type": "code",
   "execution_count": null,
   "id": "b414c76e-953b-49f0-8349-eb19a8047835",
   "metadata": {},
   "outputs": [],
   "source": []
  },
  {
   "cell_type": "code",
   "execution_count": null,
   "id": "19b23683-da89-4b71-b7ea-0f97a2171225",
   "metadata": {},
   "outputs": [],
   "source": []
  },
  {
   "cell_type": "code",
   "execution_count": null,
   "id": "192d055d-767d-492f-b8c6-04331395794f",
   "metadata": {},
   "outputs": [],
   "source": []
  },
  {
   "cell_type": "code",
   "execution_count": null,
   "id": "070d997c-381e-430e-ad0b-90b2fc8cdb73",
   "metadata": {},
   "outputs": [],
   "source": []
  },
  {
   "cell_type": "code",
   "execution_count": null,
   "id": "869f81be-d406-42eb-9e74-ec2263074948",
   "metadata": {},
   "outputs": [],
   "source": []
  },
  {
   "cell_type": "code",
   "execution_count": null,
   "id": "f5e60735-218e-4446-82e1-6cba5d6fc096",
   "metadata": {},
   "outputs": [],
   "source": []
  },
  {
   "cell_type": "code",
   "execution_count": null,
   "id": "56fabcf2-29e1-47e7-aaba-42a399a58006",
   "metadata": {},
   "outputs": [],
   "source": []
  },
  {
   "cell_type": "code",
   "execution_count": null,
   "id": "b9c83a3f-8cc7-433d-9920-a94a65b0a292",
   "metadata": {},
   "outputs": [],
   "source": []
  },
  {
   "cell_type": "code",
   "execution_count": null,
   "id": "5c7cbde7-21a4-45c4-a85f-84fd625e19b3",
   "metadata": {},
   "outputs": [],
   "source": []
  },
  {
   "cell_type": "code",
   "execution_count": null,
   "id": "14907e99-45a7-4215-b961-6b4a73e6172d",
   "metadata": {},
   "outputs": [],
   "source": []
  }
 ],
 "metadata": {
  "kernelspec": {
   "display_name": "Python 3 (ipykernel)",
   "language": "python",
   "name": "python3"
  },
  "language_info": {
   "codemirror_mode": {
    "name": "ipython",
    "version": 3
   },
   "file_extension": ".py",
   "mimetype": "text/x-python",
   "name": "python",
   "nbconvert_exporter": "python",
   "pygments_lexer": "ipython3",
   "version": "3.11.5"
  }
 },
 "nbformat": 4,
 "nbformat_minor": 5
}
